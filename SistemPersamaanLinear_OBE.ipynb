{
 "cells": [
  {
   "cell_type": "code",
   "execution_count": 1,
   "metadata": {},
   "outputs": [],
   "source": [
    "# importing modul we will use\n",
    "import numpy as np\n",
    "import scipy.linalg as ls\n",
    "import sympy as sp\n",
    "sp.init_printing()"
   ]
  },
  {
   "cell_type": "code",
   "execution_count": 2,
   "metadata": {},
   "outputs": [],
   "source": [
    "# making one dimension list which content number from 1 to 9 then it reshaping that list to be two dimensianal list\n",
    "# or matrix\n",
    "A = np.array([i for i in range(1, 10)]).reshape(3,3)"
   ]
  },
  {
   "cell_type": "code",
   "execution_count": 3,
   "metadata": {},
   "outputs": [
    {
     "data": {
      "text/plain": [
       "array([[1, 2, 3],\n",
       "       [4, 5, 6],\n",
       "       [7, 8, 9]])"
      ]
     },
     "execution_count": 3,
     "metadata": {},
     "output_type": "execute_result"
    }
   ],
   "source": [
    "A"
   ]
  },
  {
   "cell_type": "code",
   "execution_count": 4,
   "metadata": {},
   "outputs": [],
   "source": [
    "# making identity matrix\n",
    "T = np.eye(3)"
   ]
  },
  {
   "cell_type": "code",
   "execution_count": 5,
   "metadata": {},
   "outputs": [
    {
     "data": {
      "text/plain": [
       "array([[1., 0., 0.],\n",
       "       [0., 1., 0.],\n",
       "       [0., 0., 1.]])"
      ]
     },
     "execution_count": 5,
     "metadata": {},
     "output_type": "execute_result"
    }
   ],
   "source": [
    "T"
   ]
  },
  {
   "cell_type": "code",
   "execution_count": 6,
   "metadata": {},
   "outputs": [
    {
     "data": {
      "text/plain": [
       "array([[1., 0., 0.],\n",
       "       [0., 0., 1.],\n",
       "       [0., 1., 0.]])"
      ]
     },
     "execution_count": 6,
     "metadata": {},
     "output_type": "execute_result"
    }
   ],
   "source": [
    "# mengganti elemen tertentu dalam matriks identitas\n",
    "# matriks ini yang akan digunakan untuk dikalikan dengan matriks target yang akan ditukar posisi baris\n",
    "T[1,1] = 0\n",
    "T[2,2] = 0\n",
    "T[1,2] = 1\n",
    "T[2,1] = 1\n",
    "T"
   ]
  },
  {
   "cell_type": "code",
   "execution_count": 7,
   "metadata": {},
   "outputs": [
    {
     "data": {
      "text/plain": [
       "array([[1, 2, 3],\n",
       "       [4, 5, 6],\n",
       "       [7, 8, 9]])"
      ]
     },
     "execution_count": 7,
     "metadata": {},
     "output_type": "execute_result"
    }
   ],
   "source": [
    "A"
   ]
  },
  {
   "cell_type": "markdown",
   "metadata": {},
   "source": [
    "### **OPERASI MENUKAR BARIS**\n",
    "###### **MENGALIKAN MATRIX T DENGAN MATRIX A**\n",
    " - pengaturan angka satu dalam matrix yang akan menukar posisi baris ini mewakili\n",
    " - misal baris pertama di matrix T = 1 | 0 | 0\n",
    " - maksudnya adalah di hasil akhir nanti jika matrix ini dikalikan dengan matrix A, akan membuat baris pertama matrix A menjadi hasil di baris pertama\n",
    " - baris kedua di matrix T = 0 | 0 | 1\n",
    " - hasil di akhir perkalian antara matrix T dan A nanti akan menjadikan baris ke 3 matrix A menjadi baris kedua\n",
    " di matrix hasilnya\n",
    " - baris ketiga di matrix T = 0 | 1 | 0\n",
    " - hasil akhir perkalian antara matrix T dan A nanti akan menjadikan baris ke 2 matrix A menjadi baris ke 3\n",
    " di matrix hasilnya"
   ]
  },
  {
   "cell_type": "code",
   "execution_count": 8,
   "metadata": {},
   "outputs": [
    {
     "data": {
      "text/plain": [
       "array([[1., 2., 3.],\n",
       "       [7., 8., 9.],\n",
       "       [4., 5., 6.]])"
      ]
     },
     "execution_count": 8,
     "metadata": {},
     "output_type": "execute_result"
    }
   ],
   "source": [
    "# mengalikan matriks T dan A untuk mendapatkan matriks yang barisnya telah ditukar\n",
    "T@A"
   ]
  },
  {
   "cell_type": "markdown",
   "metadata": {},
   "source": [
    "### **OPERASI MENUKAR KOLOM**\n",
    "#### **MENGALIKAN MATRIX A DENGAN MATRIX T**\n",
    "\n",
    "- pengaturan angka satu dalam matrix yang akan menukar posisi kolom ini mewakili\n",
    "- misal kolom pertama di matrix T itu 1 | 0 | 0\n",
    "- maksudnya adalah di hasil akhir nanti jika matrix A dikalikan dengan matrix T, akan membuat kolom pertama matrix A menjadi\n",
    "  hasil di kolom pertama matrix hasil\n",
    "\n",
    "- kolom kedua di matrix T = 0 | 0 | 1\n",
    "- hasil di akhir perkalian matrix A dan matrix T nanti akan menjadikan kolom ke 3 matrix A menjadi kolom ke 2 di matrix hasil\n",
    "\n",
    "- kolom ketiga di matrix T = 0 | 1 | 0\n",
    "- hasil di akhir perkalian matrix A dan matrix T nanti akan menjadikan kolom ke 2 matrix A menjadi kolom ke 3 di matrix hasil\n"
   ]
  },
  {
   "cell_type": "code",
   "execution_count": 9,
   "metadata": {},
   "outputs": [
    {
     "name": "stdout",
     "output_type": "stream",
     "text": [
      "[[1 2 3]\n",
      " [4 5 6]\n",
      " [7 8 9]]\n",
      "\n",
      "[[1. 0. 0.]\n",
      " [0. 0. 1.]\n",
      " [0. 1. 0.]]\n"
     ]
    }
   ],
   "source": [
    "print(A)\n",
    "print()\n",
    "print(T)"
   ]
  },
  {
   "cell_type": "code",
   "execution_count": 10,
   "metadata": {},
   "outputs": [
    {
     "data": {
      "text/plain": [
       "array([[1., 3., 2.],\n",
       "       [4., 6., 5.],\n",
       "       [7., 9., 8.]])"
      ]
     },
     "execution_count": 10,
     "metadata": {},
     "output_type": "execute_result"
    }
   ],
   "source": [
    "# matriks A yang kolomnya akan ditukar posisikan dikalikan dengan matriks identitas\n",
    "A@T"
   ]
  },
  {
   "cell_type": "code",
   "execution_count": 11,
   "metadata": {},
   "outputs": [
    {
     "name": "stdout",
     "output_type": "stream",
     "text": [
      "Ordo dari matrix A = (3, 3)\n"
     ]
    }
   ],
   "source": [
    "# mengecek ordo matriks\n",
    "print('Ordo dari matrix A =', A.shape)"
   ]
  },
  {
   "cell_type": "code",
   "execution_count": 12,
   "metadata": {},
   "outputs": [],
   "source": [
    "# definisikan fungsi modifikasi dari ref 1\n",
    "# menukar baris i dengan baris j\n",
    "\n",
    "def swap_row(A, i, j):\n",
    "    \"\"\"Fungsi ini menukar posisi antar baris misal baris kesatu dan kedua\n",
    "\n",
    "    Args:\n",
    "        A (array): matriks atau array 2d\n",
    "        i (int): baris ke i\n",
    "        j (int): baris ke j\n",
    "\n",
    "    Returns:\n",
    "        matriks : array 2d\n",
    "    \"\"\"\n",
    "    n = A.shape[0]      # menyimpan jumlah baris matriks dari ordonya\n",
    "\n",
    "    E = np.eye(n)       # membuat matrix identitas dengan n ordo matrix\n",
    "    E[i,i] = 0\n",
    "    E[j,j] = 0\n",
    "    E[i,j] = 1\n",
    "    E[j,i] = 1\n",
    "\n",
    "    return E@A  # operasi pemindahan baris mengalikan matrix identitas dengan matrix target"
   ]
  },
  {
   "cell_type": "code",
   "execution_count": 13,
   "metadata": {},
   "outputs": [
    {
     "data": {
      "text/plain": [
       "array([[0., 0., 0.],\n",
       "       [0., 0., 0.],\n",
       "       [0., 0., 0.]])"
      ]
     },
     "execution_count": 13,
     "metadata": {},
     "output_type": "execute_result"
    }
   ],
   "source": [
    "n = A.shape[0]\n",
    "E = np.zeros((3,3))\n",
    "E"
   ]
  },
  {
   "cell_type": "code",
   "execution_count": 14,
   "metadata": {},
   "outputs": [
    {
     "data": {
      "text/plain": [
       "array([[1., 2., 3.],\n",
       "       [7., 8., 9.],\n",
       "       [4., 5., 6.]])"
      ]
     },
     "execution_count": 14,
     "metadata": {},
     "output_type": "execute_result"
    }
   ],
   "source": [
    "# pemanggilan fungsi untuk menukar baris kedua menjadi baris ketiga dan baris ketiga menjadi kedua pada matriks A\n",
    "swap_row(A, 1, 2)"
   ]
  },
  {
   "cell_type": "markdown",
   "metadata": {},
   "source": [
    "### **Fungsi yang mengambil row dari matriks untuk operasi**"
   ]
  },
  {
   "cell_type": "code",
   "execution_count": 15,
   "metadata": {},
   "outputs": [],
   "source": [
    "# buat matrix yang berisi baris i dari matrix A ditempatkan pada baris j\n",
    "def get_row(A, i, j):\n",
    "    \"\"\"fungsi ini akan membuat matriks nol dan menyisipkan angka 1 di elemen[j,i] dan mengalikannya dengan matriks target\n",
    "        sehingga diperoleh satu baris saja dalam matriks hasilnya baris lainnya punya nilai nol semua.\n",
    "\n",
    "    Args:\n",
    "        A (array): array target\n",
    "        i (int): baris asal matriks target (yang akan digunakan sebagai pengurang / penjumlah)\n",
    "        j (int): baris tujuan di matriks hasil (baris yang akan mengurangi / menjumlah baris di matriks target)\n",
    "\n",
    "    Returns:\n",
    "        matriks : array 2d\n",
    "    \"\"\"\n",
    "\n",
    "    n = A.shape[0]          # menyimpan jumlah baris matriks dari ordonya\n",
    "    E = np.zeros((n,n))     # membuat matriks nol\n",
    "    E[j,i] = 1              # mengganti elemen matriks baris ke j dan kolom ke i dengan satu\n",
    "    return E@A              # mengalikan matriks E dengan matriks A untuk mendapatkan matriks yang hanya punya satu baris\n",
    "                            # yang digunakan untuk mengurangi atau menjumlah"
   ]
  },
  {
   "cell_type": "code",
   "execution_count": 16,
   "metadata": {},
   "outputs": [
    {
     "data": {
      "text/plain": [
       "array([[0., 0., 0.],\n",
       "       [0., 0., 0.],\n",
       "       [4., 5., 6.]])"
      ]
     },
     "execution_count": 16,
     "metadata": {},
     "output_type": "execute_result"
    }
   ],
   "source": [
    "# pemanggilan fungsi untuk mendapatkan matriks yang baris ke tiga nya adalah baris ke dua dati matriks A\n",
    "get_row(A, 1, 2)"
   ]
  },
  {
   "cell_type": "markdown",
   "metadata": {},
   "source": [
    "#### **Fungsi Yang Menskalakan Matriks**"
   ]
  },
  {
   "cell_type": "code",
   "execution_count": 17,
   "metadata": {},
   "outputs": [],
   "source": [
    "# kalikan skala s pada baris i dari matriks A\n",
    "\n",
    "def scale_row(A, i, s):\n",
    "    \"\"\"fungsi ini akan membuat mariks identitas kemudian mengisi elemen [i,i] nya dengan angka perkalian skalanya mengalikannya\n",
    "        dengan matriks target\n",
    "\n",
    "    Args:\n",
    "        A (array): Matriks target\n",
    "        i (int): baris ke berapa pada matriks target yang akan di skalakan atau dijadikan sebagai pengurang atau penjumlah\n",
    "        s (int): dikali dengan berapa\n",
    "\n",
    "    Returns:\n",
    "        matriks : array 2d\n",
    "    \"\"\"\n",
    "    n = A.shape[0]          # menyimpan baris matriks dari ordonya\n",
    "    E = np.eye(n)           # membuat matriks non\n",
    "    # mengubah elemen matriks E pada baris ke i dan kolom ke i menjadi nol\n",
    "    E[i, i] = s\n",
    "    # mengalikan matriks E dan matriks A untuk mendapatkan matriks yang suatu barisnya sudah dikalikan\n",
    "    return E@A\n",
    "    # dengan suatu bilangan\n"
   ]
  },
  {
   "cell_type": "code",
   "execution_count": 18,
   "metadata": {},
   "outputs": [
    {
     "data": {
      "text/plain": [
       "array([[1., 2., 3.],\n",
       "       [7., 8., 9.],\n",
       "       [4., 5., 6.]])"
      ]
     },
     "execution_count": 18,
     "metadata": {},
     "output_type": "execute_result"
    }
   ],
   "source": [
    "# menukar baris kedua dengan baris ketiga\n",
    "swap_row(A, 1, 2)"
   ]
  },
  {
   "cell_type": "code",
   "execution_count": 19,
   "metadata": {},
   "outputs": [
    {
     "data": {
      "text/plain": [
       "array([[0., 0., 0.],\n",
       "       [0., 0., 0.],\n",
       "       [1., 2., 3.]])"
      ]
     },
     "execution_count": 19,
     "metadata": {},
     "output_type": "execute_result"
    }
   ],
   "source": [
    "# panggil fungsi untuk mendapatkan matriks yang meyimpan baris kesatu matriks A di baris ketiga\n",
    "get_row(A, 0, 2)"
   ]
  },
  {
   "cell_type": "code",
   "execution_count": 20,
   "metadata": {},
   "outputs": [
    {
     "data": {
      "text/plain": [
       "array([[3., 6., 9.],\n",
       "       [4., 5., 6.],\n",
       "       [7., 8., 9.]])"
      ]
     },
     "execution_count": 20,
     "metadata": {},
     "output_type": "execute_result"
    }
   ],
   "source": [
    "# panggil fungsi untuk mengalikan baris kesatu matriks dengan 3\n",
    "scale_row(A, 0, 3)"
   ]
  },
  {
   "cell_type": "markdown",
   "metadata": {},
   "source": [
    "#### **Soal 1 dengan metode eliminasi Gauss dan substitusi kembali**"
   ]
  },
  {
   "cell_type": "markdown",
   "metadata": {},
   "source": [
    "$x+y+z=1$\n",
    "\n",
    "$x+2y+4z=-1$\n",
    "\n",
    "$x+3y+9z=1$"
   ]
  },
  {
   "cell_type": "code",
   "execution_count": 21,
   "metadata": {},
   "outputs": [],
   "source": [
    "# mengetikan koefisien-koefisien dari baris di sistem persamaan linear dalam list 2 dimensi\n",
    "# kemudian mengubah tipe datanya menjadi array 2d\n",
    "# matriks a itu ruas kiri persamaan linear\n",
    "# matriks b itu ruas kanan persamaan linear\n",
    "\n",
    "a = np.array([[1,1,1], [1,2,4],[1,3,9]])\n",
    "b = np.array([[1,-1,1]])"
   ]
  },
  {
   "cell_type": "code",
   "execution_count": 22,
   "metadata": {},
   "outputs": [
    {
     "data": {
      "text/plain": [
       "array([[ 1,  1,  1,  1],\n",
       "       [ 1,  2,  4, -1],\n",
       "       [ 1,  3,  9,  1]])"
      ]
     },
     "execution_count": 22,
     "metadata": {},
     "output_type": "execute_result"
    }
   ],
   "source": [
    "# menyisipkan array b ke dalam kolom array a\n",
    "a = np.insert(a, 3, b, axis=1)\n",
    "a"
   ]
  },
  {
   "cell_type": "code",
   "execution_count": 23,
   "metadata": {},
   "outputs": [
    {
     "name": "stdout",
     "output_type": "stream",
     "text": [
      "[[ 1.  1.  1.  1.]\n",
      " [ 0.  1.  3. -2.]\n",
      " [ 1.  3.  9.  1.]]\n"
     ]
    }
   ],
   "source": [
    "# b2 - b1\n",
    "# mengurangi matriks a dengan matriks yang dihasilkan oleh fungsi get_row\n",
    "# matriks yang dihasil tersebut adalah matriks nol yang baris keduanya merupakan baris kesatu matriks a\n",
    "a = a - get_row(a, 0, 1)\n",
    "print(a)"
   ]
  },
  {
   "cell_type": "code",
   "execution_count": 24,
   "metadata": {},
   "outputs": [
    {
     "name": "stdout",
     "output_type": "stream",
     "text": [
      "[[ 1.  1.  1.  1.]\n",
      " [ 0.  1.  3. -2.]\n",
      " [ 0.  2.  8.  0.]]\n"
     ]
    }
   ],
   "source": [
    "# b3 - b1\n",
    "# mengurangi matriks a dengan matriks yang dihasilkan oleh fungsi get_row\n",
    "# matriks yang dihasilkan tersebut adalah matriks nol baris ke 3 adalah baris ke 1 baris a\n",
    "a = a - get_row(a, 0, 2)\n",
    "print(a)"
   ]
  },
  {
   "cell_type": "code",
   "execution_count": 25,
   "metadata": {},
   "outputs": [
    {
     "name": "stdout",
     "output_type": "stream",
     "text": [
      "[[ 1.  1.  1.  1.]\n",
      " [ 0.  1.  3. -2.]\n",
      " [ 0.  0.  2.  4.]]\n"
     ]
    }
   ],
   "source": [
    "# b3 - 2 b2\n",
    "# mengurangi matriks a dengan matriks yang dihasilkan oleh fungsi get_row\n",
    "# matriks yang dihasilkan tersebut adalah matriks nol yang baris ke 3 nya adalah 2 kali dari baris ke 2 baris a\n",
    "a = a - 2 * get_row(a, 1, 2)\n",
    "print(a)"
   ]
  },
  {
   "cell_type": "code",
   "execution_count": 26,
   "metadata": {},
   "outputs": [
    {
     "name": "stdout",
     "output_type": "stream",
     "text": [
      "[[ 1.  1.  1.  1.]\n",
      " [ 0.  1.  3. -2.]\n",
      " [ 0.  0.  1.  2.]]\n"
     ]
    }
   ],
   "source": [
    "# 1/2 b3\n",
    "# mengalikan baris ke 3 matriks a dengan 1/2\n",
    "a = scale_row(a, 2, 1/2)\n",
    "print(a)"
   ]
  },
  {
   "cell_type": "code",
   "execution_count": 27,
   "metadata": {},
   "outputs": [
    {
     "name": "stdout",
     "output_type": "stream",
     "text": [
      "[[ 1.  1.  1.  1.]\n",
      " [ 0.  1.  0. -8.]\n",
      " [ 0.  0.  1.  2.]]\n"
     ]
    }
   ],
   "source": [
    "# b2 - 3 b3\n",
    "# mengurangi matriks a dengan matriks yang dihasilkan oleh fungsi get_row\n",
    "# matriks yang dihasilkan tersebut adalah matriks nol yang baris ke 2 nya adalah 3 kali dari baris ke 3 baris a\n",
    "a = a - 3*get_row(a, 2, 1)\n",
    "print(a)"
   ]
  },
  {
   "cell_type": "code",
   "execution_count": 28,
   "metadata": {},
   "outputs": [
    {
     "name": "stdout",
     "output_type": "stream",
     "text": [
      "[[ 1.  0.  1.  9.]\n",
      " [ 0.  1.  0. -8.]\n",
      " [ 0.  0.  1.  2.]]\n"
     ]
    }
   ],
   "source": [
    "# b1 - b2\n",
    "# mengurangi matriks a dengan matriks yang dihasilkan oleh fungsi get_row\n",
    "# matriks yang dihasilkan tersebut adalah matriks nol yang baris ke 1 nya adalah baris ke 2 matriks a\n",
    "a = a - get_row(a, 1, 0)\n",
    "print(a)"
   ]
  },
  {
   "cell_type": "code",
   "execution_count": 29,
   "metadata": {},
   "outputs": [
    {
     "name": "stdout",
     "output_type": "stream",
     "text": [
      "[[ 1.  0.  0.  7.]\n",
      " [ 0.  1.  0. -8.]\n",
      " [ 0.  0.  1.  2.]]\n"
     ]
    }
   ],
   "source": [
    "# b1 - b3\n",
    "# mengurangi matriks a dengan matriks yang dihasilkan oleh fungsi get_row\n",
    "# matriks yang dihasilkan tersebut adalah matriks nol yang baris ke 1 nya adalah baris ke 3 matriks a\n",
    "a = a - get_row(a, 2, 0)\n",
    "print(a)"
   ]
  },
  {
   "cell_type": "code",
   "execution_count": 30,
   "metadata": {},
   "outputs": [
    {
     "name": "stdout",
     "output_type": "stream",
     "text": [
      "Matriks hasilnya adalah\n",
      "[[ 1.  0.  0.  7.]\n",
      " [ 0.  1.  0. -8.]\n",
      " [ 0.  0.  1.  2.]]\n"
     ]
    }
   ],
   "source": [
    "print(\"Matriks hasilnya adalah\")\n",
    "print(a)"
   ]
  },
  {
   "cell_type": "markdown",
   "metadata": {},
   "source": [
    "**bila di ubah ke persamaan linear kembali didapat nilai-nilai dari variabelnya sebagai berikut:**\n",
    "- x = 7\n",
    "- y = -8\n",
    "- z = 2"
   ]
  },
  {
   "cell_type": "markdown",
   "metadata": {},
   "source": [
    "### **Soal 2 dengan metode GAUSS-SEIDEL**"
   ]
  },
  {
   "cell_type": "markdown",
   "metadata": {},
   "source": [
    "$2x+y+z=2$\n",
    "\n",
    "$x+4y+2z=1$\n",
    "\n",
    "$x+3y+9z$"
   ]
  },
  {
   "cell_type": "markdown",
   "metadata": {},
   "source": [
    "#### **Bentuk kodingan 1**"
   ]
  },
  {
   "cell_type": "code",
   "execution_count": 31,
   "metadata": {},
   "outputs": [
    {
     "name": "stdout",
     "output_type": "stream",
     "text": [
      "[1.0, 0.0, 0.0]\n"
     ]
    }
   ],
   "source": [
    "tol = 1.0E-10       # toleransi error\n",
    "delta = 1000        # akan menghentikan while loop jika nilainya lebih kecil dari toleransi error atau epsilon\n",
    "\n",
    "# nilai awal variabel x, y, z\n",
    "xn = 0\n",
    "yn = 0\n",
    "zn = 0\n",
    "n = 0\n",
    "\n",
    "# loop ketika delta > toleransi errornya\n",
    "while delta > tol:\n",
    "    n += 1                              # n = n + 1\n",
    "\n",
    "    # xn + 1 = F(xn)\n",
    "    # sistem persamaan linear\n",
    "    xnp1 = (1/2) * (2 - yn - zn)\n",
    "    ynp1 = (1/4) * (1 - xnp1 - 2*zn)\n",
    "    znp1 = (1/9) * (1 - xnp1 - 3*ynp1)\n",
    "\n",
    "    # mencari galat dari nilai masing-masing variabel\n",
    "    delta = abs(xnp1 - xn) + abs(ynp1 - yn) + abs(znp1 - zn)\n",
    "\n",
    "    # menyimpan nilai variabel yang baru dihitung\n",
    "    xn = xnp1\n",
    "    yn = ynp1\n",
    "    zn = znp1\n",
    "\n",
    "print([xn, yn, zn])"
   ]
  },
  {
   "cell_type": "code",
   "execution_count": 32,
   "metadata": {},
   "outputs": [
    {
     "name": "stdout",
     "output_type": "stream",
     "text": [
      "x = 1.0\n",
      "y = 0.0\n",
      "z = 0.0\n"
     ]
    }
   ],
   "source": [
    "# nilai dari masing-masing variabel nya\n",
    "print(f\"x = {xn}\")\n",
    "print(f\"y = {yn}\")\n",
    "print(f\"z = {zn}\")"
   ]
  },
  {
   "cell_type": "markdown",
   "metadata": {},
   "source": [
    "### **Bentuk kodingan 2**\n",
    "#### **Scipy.linalg**\n"
   ]
  },
  {
   "cell_type": "code",
   "execution_count": 33,
   "metadata": {},
   "outputs": [
    {
     "name": "stdout",
     "output_type": "stream",
     "text": [
      "[[1.]\n",
      " [0.]\n",
      " [0.]]\n"
     ]
    }
   ],
   "source": [
    "# menngetikan koefisien-koefisien sistem persamaan linear dalam list 2d\n",
    "# kemudian mengubahnya tipe datanya menjadi array 2d\n",
    "# A adalah ruas kiri sistem persamaan linear\n",
    "# b adalah ruas kanan sistem persamaan linear\n",
    "\n",
    "A = np.array([[2, 1, 1], [1, 4, 2], [1, 3, 9]])\n",
    "b = np.array([[2], [1], [1]])\n",
    "x = ls.solve(A, b)                  # mencari nilai x, y, z\n",
    "\n",
    "print(x)"
   ]
  },
  {
   "cell_type": "markdown",
   "metadata": {},
   "source": [
    "### **Bentuk kodingan 3**\n",
    "#### **sympy.solve**"
   ]
  },
  {
   "cell_type": "code",
   "execution_count": 34,
   "metadata": {},
   "outputs": [
    {
     "name": "stdout",
     "output_type": "stream",
     "text": [
      "Matrix([[1], [0], [0]])\n"
     ]
    }
   ],
   "source": [
    "# mengubah tipe data A yaitu array 2d menjadi sympy matrix\n",
    "# A2 adalah ruas kiri sistem persamaan linear\n",
    "# b2 adalah ruas kanan sistem persamaan linear\n",
    "A2 = sp.Matrix(A)\n",
    "b2 = sp.Matrix(b)\n",
    "x2 = A2.solve(b2)   # mencari penyelesaian\n",
    "print(x2)"
   ]
  },
  {
   "cell_type": "markdown",
   "metadata": {},
   "source": [
    "### **Soal 3 dengan metode eliminasi GAUSS**"
   ]
  },
  {
   "cell_type": "markdown",
   "metadata": {},
   "source": [
    "$a+b+4d =1$\n",
    "\n",
    "$2a-b+5c =3$\n",
    "\n",
    "$5a+2b+c+2d=2$\n",
    "\n",
    "$-3a+2c+6d=-1$"
   ]
  },
  {
   "cell_type": "code",
   "execution_count": 35,
   "metadata": {},
   "outputs": [],
   "source": [
    "# menngetikan koefisien-koefisien sistem persamaan linear dalam list 2d\n",
    "# kemudian mengubahnya tipe datanya menjadi array 2d\n",
    "# A adalah ruas kiri sistem persamaan linear\n",
    "# b adalah ruas kanan sistem persamaan linear\n",
    "\n",
    "A = np.array([[1, 1,0, 4], [2, -1, 5,0], [5, 2, 1, 2], [-3,0, 2, 6]])\n",
    "b = np.array([[1, 3, 2, -1]])"
   ]
  },
  {
   "cell_type": "code",
   "execution_count": 36,
   "metadata": {},
   "outputs": [
    {
     "name": "stdout",
     "output_type": "stream",
     "text": [
      "[[ 1  1  0  4  1]\n",
      " [ 2 -1  5  0  3]\n",
      " [ 5  2  1  2  2]\n",
      " [-3  0  2  6 -1]]\n"
     ]
    }
   ],
   "source": [
    "# menyisipkan matrix b di kolom ke 5 matrix A\n",
    "A = np.insert(A, 4, b, axis=1)\n",
    "print(A)"
   ]
  },
  {
   "cell_type": "code",
   "execution_count": 37,
   "metadata": {},
   "outputs": [
    {
     "name": "stdout",
     "output_type": "stream",
     "text": [
      "[[ 1.  1.  0.  4.  1.]\n",
      " [ 0. -3.  5. -8.  1.]\n",
      " [ 5.  2.  1.  2.  2.]\n",
      " [-3.  0.  2.  6. -1.]]\n"
     ]
    }
   ],
   "source": [
    "# b2 - 2 b1\n",
    "# mengurangi matriks A dengan matriks yang dihasilkan oelh fungsi get_row\n",
    "# matriks yang dihasilkan tersebut adalah matriks nol yang baris ke 2 nya adalah 2 kali baris ke 1 matriks A\n",
    "A = A - 2 * get_row(A, 0, 1)\n",
    "print(A)"
   ]
  },
  {
   "cell_type": "code",
   "execution_count": 38,
   "metadata": {},
   "outputs": [
    {
     "name": "stdout",
     "output_type": "stream",
     "text": [
      "[[ 1.  1.  0.  4.  1.]\n",
      " [ 0. -3.  5. -8.  1.]\n",
      " [ 5.  2.  1.  2.  2.]\n",
      " [ 0.  3.  2. 18.  2.]]\n"
     ]
    }
   ],
   "source": [
    "# b4 + 3 b1\n",
    "# mengurangi matriks A dengan matriks yang dihasilkan oelh fungsi get_row\n",
    "# matriks yang dihasilkan tersebut adalah matriks nol yang baris ke 4 nya adalah 3 kali baris ke 1 matriks A\n",
    "A = A + 3 * get_row(A, 0, 3)\n",
    "print(A)"
   ]
  },
  {
   "cell_type": "code",
   "execution_count": 39,
   "metadata": {},
   "outputs": [
    {
     "name": "stdout",
     "output_type": "stream",
     "text": [
      "[[  1.   1.   0.   4.   1.]\n",
      " [  0.  -3.   5.  -8.   1.]\n",
      " [  0.  -3.   1. -18.  -3.]\n",
      " [  0.   3.   2.  18.   2.]]\n"
     ]
    }
   ],
   "source": [
    "# b3 - 5 b1\n",
    "# mengurangi matriks A dengan matriks yang dihasilkan oelh fungsi get_row\n",
    "# matriks yang dihasilkan tersebut adalah matriks nol yang baris ke 3 nya adalah 5 kali baris ke 1 matriks A\n",
    "A = A - 5 * get_row(A, 0, 2)\n",
    "print(A)"
   ]
  },
  {
   "cell_type": "code",
   "execution_count": 40,
   "metadata": {},
   "outputs": [
    {
     "name": "stdout",
     "output_type": "stream",
     "text": [
      "[[  1.   1.   0.   4.   1.]\n",
      " [  0.  -3.   5.  -8.   1.]\n",
      " [  0.   0.  -4. -10.  -4.]\n",
      " [  0.   3.   2.  18.   2.]]\n"
     ]
    }
   ],
   "source": [
    "# b3 - b2\n",
    "# mengurangi matriks A dengan matriks yang dihasilkan oelh fungsi get_row\n",
    "# matriks yang dihasilkan tersebut adalah matriks nol yang baris ke 3 nya adalah baris ke 2 matriks A\n",
    "A = A - get_row(A, 1, 2)\n",
    "print(A)"
   ]
  },
  {
   "cell_type": "code",
   "execution_count": 41,
   "metadata": {},
   "outputs": [
    {
     "name": "stdout",
     "output_type": "stream",
     "text": [
      "[[  1.   1.   0.   4.   1.]\n",
      " [  0.  -3.   5.  -8.   1.]\n",
      " [  0.   0.  -4. -10.  -4.]\n",
      " [  0.   0.   7.  10.   3.]]\n"
     ]
    }
   ],
   "source": [
    "# b4 + b2\n",
    "# menjumlahkan matriks A dengan matriks yang dihasilkan oelh fungsi get_row\n",
    "# matriks yang dihasilkan tersebut adalah matriks nol yang baris ke 4 nya adalah baris ke 2 matriks A\n",
    "A = A + get_row(A, 1, 3)\n",
    "print(A)"
   ]
  },
  {
   "cell_type": "code",
   "execution_count": 42,
   "metadata": {},
   "outputs": [
    {
     "name": "stdout",
     "output_type": "stream",
     "text": [
      "[[  1.    1.    0.    4.    1. ]\n",
      " [  0.   -3.    5.   -8.    1. ]\n",
      " [  0.    0.   -4.  -10.   -4. ]\n",
      " [  0.    0.    0.   -7.5  -4. ]]\n"
     ]
    }
   ],
   "source": [
    "# b4 + (7/4) b3\n",
    "# menjumlahkan matriks A dengan matriks yang dihasilkan oelh fungsi get_row\n",
    "# matriks yang dihasilkan tersebut adalah matriks nol yang baris ke 4 nya adalah 7/4 kali baris ke 3 matriks A\n",
    "A = A + 7/4 * get_row(A, 2, 3)\n",
    "print(A)"
   ]
  },
  {
   "cell_type": "code",
   "execution_count": 43,
   "metadata": {},
   "outputs": [
    {
     "name": "stdout",
     "output_type": "stream",
     "text": [
      "[[  1.           0.           1.66666667   1.33333333   1.33333333]\n",
      " [  0.          -3.           5.          -8.           1.        ]\n",
      " [  0.           0.          -4.         -10.          -4.        ]\n",
      " [  0.           0.           0.          -7.5         -4.        ]]\n"
     ]
    }
   ],
   "source": [
    "# b1 + 1/3 b2\n",
    "# mengurangi matriks A dengan matriks yang dihasilkan oelh fungsi get_row\n",
    "# matriks yang dihasilkan tersebut adalah matriks nol yang baris ke 1 nya adalah 1/3 kali baris ke 2 matriks A\n",
    "A = A + 1/3* get_row(A, 1, 0)\n",
    "print(A)"
   ]
  },
  {
   "cell_type": "code",
   "execution_count": 44,
   "metadata": {},
   "outputs": [
    {
     "name": "stdout",
     "output_type": "stream",
     "text": [
      "[[  1.           0.           1.66666667   1.33333333   1.33333333]\n",
      " [  0.           1.          -1.66666667   2.66666667  -0.33333333]\n",
      " [  0.           0.          -4.         -10.          -4.        ]\n",
      " [  0.           0.           0.          -7.5         -4.        ]]\n"
     ]
    }
   ],
   "source": [
    "# -1/3 b2\n",
    "# mengalikan baris ke 2 matriks b2 dengan -1/3\n",
    "A = scale_row(A, 1, -1/3)\n",
    "print(A)"
   ]
  },
  {
   "cell_type": "markdown",
   "metadata": {},
   "source": [
    "### **Fungsi Pembulatan elemen**"
   ]
  },
  {
   "cell_type": "code",
   "execution_count": 45,
   "metadata": {},
   "outputs": [],
   "source": [
    "# untuk membulatkan yang angka dibelakang komanya banyak jadi 3 angka aja\n",
    "def pembulatan_elemen(matriks, baris, kolom):\n",
    "    \"\"\"membulatkan angka yang memiliki angka dibelakang komanya banyak\n",
    "\n",
    "\n",
    "    Args:\n",
    "        matriks (numpy.ndarray): matriks target\n",
    "        baris (int): baris matriks target\n",
    "        kolom (int): baris matriks target\n",
    "    \"\"\"\n",
    "    for baris in range(0, 4):\n",
    "        for kolom in range(0, 5):\n",
    "            if len(str(matriks[baris, kolom])) > 4:\n",
    "                matriks[baris, kolom] = round(matriks[baris, kolom], 3)     # membulatkan angka dengan 3 angka di belakang koma\n",
    "    return matriks\n"
   ]
  },
  {
   "cell_type": "code",
   "execution_count": 46,
   "metadata": {},
   "outputs": [
    {
     "name": "stdout",
     "output_type": "stream",
     "text": [
      "[[ 1.00000000e+00  0.00000000e+00 -2.22044605e-16 -2.83333333e+00\n",
      "  -3.33333333e-01]\n",
      " [ 0.00000000e+00  1.00000000e+00 -1.66666667e+00  2.66666667e+00\n",
      "  -3.33333333e-01]\n",
      " [ 0.00000000e+00  0.00000000e+00 -4.00000000e+00 -1.00000000e+01\n",
      "  -4.00000000e+00]\n",
      " [ 0.00000000e+00  0.00000000e+00  0.00000000e+00 -7.50000000e+00\n",
      "  -4.00000000e+00]]\n"
     ]
    }
   ],
   "source": [
    "# b1 + (5/3) / 4 b3\n",
    "# menjumlahkan matriks A dengan matriks yang dihasilkan oelh fungsi get_row\n",
    "# matriks yang dihasilkan tersebut adalah matriks nol yang baris ke 1 nya adalah (5/3)*4 kali baris ke 3 matriks A\n",
    "A = A + (1/4 * get_row(A, 2, 0)) * 5 / 3\n",
    "print(A)"
   ]
  },
  {
   "cell_type": "code",
   "execution_count": 47,
   "metadata": {},
   "outputs": [
    {
     "name": "stdout",
     "output_type": "stream",
     "text": [
      "[[  1.      0.     -0.     -2.833  -0.333]\n",
      " [  0.      1.     -1.667   2.667  -0.333]\n",
      " [  0.      0.     -4.    -10.     -4.   ]\n",
      " [  0.      0.      0.     -7.5    -4.   ]]\n"
     ]
    }
   ],
   "source": [
    "# penggil fungsi yang membulatkan semua elemen matriks yang memiliki banyak angka dibelakang koma menjadi 3 angka dibelakang koma\n",
    "# 4 adalah jumlah baris, 4 adalah jumlah kolomnya\n",
    "A = pembulatan_elemen(A, 4, 5)\n",
    "print(A)"
   ]
  },
  {
   "cell_type": "code",
   "execution_count": 48,
   "metadata": {},
   "outputs": [
    {
     "name": "stdout",
     "output_type": "stream",
     "text": [
      "[[  1.           0.           0.          -2.833       -0.333     ]\n",
      " [  0.           1.          -1.667        2.667       -0.333     ]\n",
      " [  0.           0.          -4.         -10.          -4.        ]\n",
      " [  0.           0.           0.           1.           0.53333333]]\n"
     ]
    }
   ],
   "source": [
    "# -1/7.5 b4\n",
    "# mengalikan baris ke 4 matriks A dengan -1/7.5\n",
    "A = scale_row(A, 3, -1/7.5)\n",
    "print(A)"
   ]
  },
  {
   "cell_type": "code",
   "execution_count": 49,
   "metadata": {},
   "outputs": [
    {
     "name": "stdout",
     "output_type": "stream",
     "text": [
      "[[  1.           0.           0.           0.           1.17793333]\n",
      " [  0.           1.          -1.667        2.667       -0.333     ]\n",
      " [  0.           0.          -4.         -10.          -4.        ]\n",
      " [  0.           0.           0.           1.           0.53333333]]\n"
     ]
    }
   ],
   "source": [
    "# b1 + 17/6 b4\n",
    "# menjumlahkan matriks A dengan matriks yang dihasilkan oleh fungsi get_row\n",
    "# matriks yang dihasilkan tersebut adalah matriks nol yang baris ke 1 nya adalah 17/6 kali baris ke 4 matriks A\n",
    "# round itu untuk membulatkan angka yang komanya banyak jadi 3 angka saja\n",
    "A = A + round(17/6, 3) * get_row(A, 3, 0)\n",
    "print(A)"
   ]
  },
  {
   "cell_type": "code",
   "execution_count": 50,
   "metadata": {},
   "outputs": [
    {
     "name": "stdout",
     "output_type": "stream",
     "text": [
      "[[  1.      0.      0.      0.      1.178]\n",
      " [  0.      1.     -1.667   2.667  -0.333]\n",
      " [  0.      0.     -4.    -10.     -4.   ]\n",
      " [  0.      0.      0.      1.      0.533]]\n"
     ]
    }
   ],
   "source": [
    "# penggil fungsi yang membulatkan semua elemen matriks yang memiliki banyak angka dibelakang koma menjadi 3 angka dibelakang koma\n",
    "# 4 adalah jumlah baris, 4 adalah jumlah kolomnya\n",
    "A = pembulatan_elemen(A, 4, 5)\n",
    "print(A)"
   ]
  },
  {
   "cell_type": "code",
   "execution_count": 51,
   "metadata": {},
   "outputs": [
    {
     "name": "stdout",
     "output_type": "stream",
     "text": [
      "[[  1.       0.       0.       0.       1.178 ]\n",
      " [  0.       1.       0.       6.8345   1.334 ]\n",
      " [  0.       0.      -4.     -10.      -4.    ]\n",
      " [  0.       0.       0.       1.       0.533 ]]\n"
     ]
    }
   ],
   "source": [
    "# b2 - (5/3) / 4 b3\n",
    "# mengurangi matriks A dengan matriks yang dihasilkan oelh fungsi get_row\n",
    "# matriks yang dihasilkan tersebut adalah matriks nol yang baris ke 2 nya adalah (5/3)/4 kali baris ke 3 matriks A\n",
    "A = A - 1/4 * get_row(A, 2, 1) * round(5 / 3, 3)\n",
    "print(A)"
   ]
  },
  {
   "cell_type": "code",
   "execution_count": 52,
   "metadata": {},
   "outputs": [
    {
     "name": "stdout",
     "output_type": "stream",
     "text": [
      "[[  1.          0.          0.          0.          1.178    ]\n",
      " [  0.          1.          0.          0.         -2.3087885]\n",
      " [  0.          0.         -4.        -10.         -4.       ]\n",
      " [  0.          0.          0.          1.          0.533    ]]\n"
     ]
    }
   ],
   "source": [
    "# b2 - 6.8345 * b4\n",
    "# round(8 / 3, 3) + 1 / 4 * 10 * round(5 / 3, 3) = 6.8345\n",
    "# mengurangi matriks A dengan matriks yang dihasilkan oelh fungsi get_row\n",
    "# matriks yang dihasilkan tersebut adalah matriks nol yang baris ke 2 nya adalah 6.8345 kali baris ke 1 matriks A\n",
    "A = A - get_row(A, 3, 1) * (round(8 / 3, 3) + 1 / 4 * 10 * round(5 / 3, 3))\n",
    "print(A)"
   ]
  },
  {
   "cell_type": "code",
   "execution_count": 53,
   "metadata": {},
   "outputs": [
    {
     "name": "stdout",
     "output_type": "stream",
     "text": [
      "[[ 1.         0.         0.         0.         1.178    ]\n",
      " [ 0.         1.         0.         0.        -2.3087885]\n",
      " [ 0.         0.         1.         2.5        1.       ]\n",
      " [ 0.         0.         0.         1.         0.533    ]]\n"
     ]
    }
   ],
   "source": [
    "# -1/4 b3\n",
    "# mengalikan baris ke 3 dengan -1/4\n",
    "A = scale_row(A, 2, -1/4)\n",
    "print(A)"
   ]
  },
  {
   "cell_type": "code",
   "execution_count": 54,
   "metadata": {},
   "outputs": [
    {
     "name": "stdout",
     "output_type": "stream",
     "text": [
      "[[ 1.         0.         0.         0.         1.178    ]\n",
      " [ 0.         1.         0.         0.        -2.3087885]\n",
      " [ 0.         0.         1.         0.        -0.3325   ]\n",
      " [ 0.         0.         0.         1.         0.533    ]]\n"
     ]
    }
   ],
   "source": [
    "# b3 - 5/2 b4\n",
    "# mengurangi matriks A dengan matriks yang dihasilkan oleh fungsi get_row\n",
    "# matriks yang dihasilkan tersebut adalah matriks nol yang baris ke 3 nya adalah 5/2 kali baris ke 4 matriks A\n",
    "A = A - 5/2 * get_row(A, 3, 2)\n",
    "print(A)"
   ]
  },
  {
   "cell_type": "code",
   "execution_count": 55,
   "metadata": {},
   "outputs": [],
   "source": [
    "# modul yang convert dari float ke pecahan\n",
    "from fractions import Fraction"
   ]
  },
  {
   "cell_type": "code",
   "execution_count": 56,
   "metadata": {},
   "outputs": [
    {
     "name": "stdout",
     "output_type": "stream",
     "text": [
      "Hasil dari Operasi diatas adalah\n",
      "a = 53/45\n",
      "b = -127/55\n",
      "c = -1/3\n",
      "d = 8/15\n"
     ]
    }
   ],
   "source": [
    "# menyimpan masing-masing hasilnya di a,b,c,d\n",
    "a = A[0, 4]\n",
    "b = A[1, 4]\n",
    "c = A[2, 4]\n",
    "d = A[3, 4]\n",
    "\n",
    "print(\"Hasil dari Operasi diatas adalah\")\n",
    "\n",
    "print(f'a = {Fraction(a).limit_denominator(50)}')\n",
    "print(f'b = {Fraction(b).limit_denominator(60)}')\n",
    "print(f'c = {Fraction(c).limit_denominator(50)}')\n",
    "print(f'd = {Fraction(d).limit_denominator(50)}')\n"
   ]
  },
  {
   "cell_type": "markdown",
   "metadata": {},
   "source": [
    "### **solusi dengan sympy**"
   ]
  },
  {
   "cell_type": "code",
   "execution_count": 57,
   "metadata": {},
   "outputs": [],
   "source": [
    "# menngetikan koefisien-koefisien sistem persamaan linear dalam list 2d\n",
    "# kemudian mengubahnya tipe datanya menjadi array 2d\n",
    "# matriks A adalah koefisien yang ada di ruas kiri\n",
    "# matriks b adalah hasil yang ada di ruas kanan\n",
    "A = np.array([[1, 1, 0, 4], [2, -1, 5, 0], [5, 2, 1, 2], [-3, 0, 2, 6]])\n",
    "b = np.array([[1], [3], [2], [-1]])"
   ]
  },
  {
   "cell_type": "code",
   "execution_count": 58,
   "metadata": {},
   "outputs": [
    {
     "name": "stdout",
     "output_type": "stream",
     "text": [
      "Matrix([[53/45], [-104/45], [-1/3], [8/15]])\n"
     ]
    }
   ],
   "source": [
    "# mengubah tipe data numpy.ndarray jadi sympy matrix\n",
    "A2 = sp.Matrix(A)\n",
    "b2 = sp.Matrix(b)\n",
    "x2 = A2.solve(b2)       # mencari solusi\n",
    "print(x2)"
   ]
  }
 ],
 "metadata": {
  "interpreter": {
   "hash": "cf832e1454d04f9acbb8e981f777f1d16233c8a4985fed58d9ea50735430799f"
  },
  "kernelspec": {
   "display_name": "Python 3.10.0 64-bit",
   "language": "python",
   "name": "python3"
  },
  "language_info": {
   "codemirror_mode": {
    "name": "ipython",
    "version": 3
   },
   "file_extension": ".py",
   "mimetype": "text/x-python",
   "name": "python",
   "nbconvert_exporter": "python",
   "pygments_lexer": "ipython3",
   "version": "3.10.0"
  },
  "orig_nbformat": 4
 },
 "nbformat": 4,
 "nbformat_minor": 2
}
