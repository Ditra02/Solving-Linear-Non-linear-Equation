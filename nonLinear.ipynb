{
 "cells": [
  {
   "cell_type": "code",
   "execution_count": 783,
   "metadata": {},
   "outputs": [],
   "source": [
    "from sympy import *\n",
    "import sympy as sp\n",
    "import math\n",
    "import numpy as np\n",
    "import matplotlib.pyplot as plt\n",
    "%matplotlib inline\n",
    "sp.init_printing()"
   ]
  },
  {
   "cell_type": "markdown",
   "metadata": {},
   "source": [
    "### **soal 1 menggunakan metode biseksi dan titik tetap**"
   ]
  },
  {
   "cell_type": "markdown",
   "metadata": {},
   "source": [
    "$f(x)=x^2-x-1$"
   ]
  },
  {
   "cell_type": "markdown",
   "metadata": {},
   "source": [
    "#### **METODE BISEKSI**"
   ]
  },
  {
   "cell_type": "code",
   "execution_count": 784,
   "metadata": {},
   "outputs": [],
   "source": [
    "# fungsi soal\n",
    "def f(x):\n",
    "    return x**2 - x - 1"
   ]
  },
  {
   "cell_type": "code",
   "execution_count": 785,
   "metadata": {},
   "outputs": [
    {
     "name": "stdout",
     "output_type": "stream",
     "text": [
      "[1.5, 1.75, 1.625, 1.5625, 1.59375, 1.609375, 1.6171875, 1.62109375, 1.619140625, 1.6181640625, 1.61767578125, 1.617919921875, 1.6180419921875, 1.61798095703125, 1.618011474609375, 1.6180267333984375, 1.6180343627929688, 1.6180305480957031, 1.618032455444336, 1.6180334091186523, 1.6180338859558105, 1.6180341243743896, 1.6180340051651, 1.6180339455604553, 1.6180339753627777, 1.618033990263939, 1.6180339828133583, 1.6180339865386486, 1.6180339884012938, 1.6180339893326163, 1.618033988866955, 1.6180339886341244, 1.6180339887505397, 1.618033988692332]\n"
     ]
    }
   ],
   "source": [
    "tol = 1.0E-10\n",
    "delta = 1000\n",
    "a = 1.0\n",
    "b = 2.0\n",
    "fa = f(a)\n",
    "fb = f(b)\n",
    "xd = []\n",
    "xn = b\n",
    "lis_c = []\n",
    "lis_delta = []\n",
    "\n",
    "while delta > tol:\n",
    "    # nilai tengah\n",
    "    c = (a+b)/2.0\n",
    "    fc = f(c)\n",
    "    lis_c.append(c)\n",
    "\n",
    "    # cek jika interval mengandung solusi\n",
    "    if (fa*fc) < 0:\n",
    "        b = c\n",
    "        fb = fc\n",
    "    else:\n",
    "        a = c\n",
    "        fa = fc\n",
    "\n",
    "    xd.append(c)\n",
    "    xnp1 = c\n",
    "    delta = abs(xnp1 - xn)\n",
    "    lis_delta.append(delta)\n",
    "    xn = xnp1\n",
    "\n",
    "print(xd)"
   ]
  },
  {
   "cell_type": "code",
   "execution_count": 791,
   "metadata": {},
   "outputs": [
    {
     "data": {
      "image/png": "[encoded data removed]",
      "text/plain": [
       "<Figure size 432x288 with 1 Axes>"
      ]
     },
     "metadata": {
      "needs_background": "light"
     },
     "output_type": "display_data"
    }
   ],
   "source": [
    "n = np.arange(len(xd))\n",
    "xd = np.array(xd)\n",
    "plt.plot(n,xd,'r')\n",
    "plt.xlabel('$n$')\n",
    "plt.ylabel('$x_n$')\n",
    "plt.show()\n"
   ]
  },
  {
   "cell_type": "markdown",
   "metadata": {},
   "source": [
    "#### **METODE TITIK TETAP**"
   ]
  },
  {
   "cell_type": "markdown",
   "metadata": {},
   "source": [
    "##### Langkah 1 : mengubah **f(x) = 0** menjadi persamaan bentuk **g(x)**\n",
    "\n",
    "**f(x)** = $x^2$ - $x$ - $1$\n",
    "\n",
    "Terdapat 3 kemungkinan $g(x)$\n",
    "\n",
    "- a. $g(x)$ = $\\sqrt{x+1}$\n",
    "  \n",
    "- b. $g(x)$ = $x^2$ - $1$\n",
    "  \n",
    "- c. $g(x)$ = $\\frac{1}{x - 1}$"
   ]
  },
  {
   "cell_type": "markdown",
   "metadata": {},
   "source": [
    "##### Langkah 2 : menentukan kekonvergenan seluruh kemungkinan $g(x)$\n",
    "\n",
    "Setelah diturunkan didapatkan sebagai berikut:\n",
    "\n",
    "- $g'(x)$ = $\\frac{1}{2\\sqrt{x+1}}$\n",
    "  \n",
    "- $g'(x)$ = $2x$\n",
    "\n",
    "- $g'(x)$ = $-\\frac{1}{(x-1)^2}$"
   ]
  },
  {
   "cell_type": "code",
   "execution_count": 792,
   "metadata": {},
   "outputs": [
    {
     "name": "stdout",
     "output_type": "stream",
     "text": [
      "turunan dari kemungkinan g(x) pertama\n"
     ]
    },
    {
     "data": {
      "image/png": "[encoded data removed]",
      "text/latex": [
       "$\\displaystyle \\frac{1}{2 \\sqrt{x + 1}}$"
      ],
      "text/plain": [
       "     1     \n",
       "───────────\n",
       "    _______\n",
       "2⋅╲╱ x + 1 "
      ]
     },
     "execution_count": 792,
     "metadata": {},
     "output_type": "execute_result"
    }
   ],
   "source": [
    "x = Symbol('x')\n",
    "\n",
    "g = sqrt(x+1)\n",
    "derivative_g = g.diff(x)\n",
    "print(\"turunan dari kemungkinan g(x) pertama\")\n",
    "derivative_g\n"
   ]
  },
  {
   "cell_type": "code",
   "execution_count": 793,
   "metadata": {},
   "outputs": [
    {
     "name": "stdout",
     "output_type": "stream",
     "text": [
      "turunan dari kemungkinan g(x) kedua\n"
     ]
    },
    {
     "data": {
      "image/png": "[encoded data removed]",
      "text/latex": [
       "$\\displaystyle 2 x$"
      ],
      "text/plain": [
       "2⋅x"
      ]
     },
     "execution_count": 793,
     "metadata": {},
     "output_type": "execute_result"
    }
   ],
   "source": [
    "x = Symbol('x')\n",
    "\n",
    "g = x**2 - 1\n",
    "derivative_g = g.diff(x)\n",
    "print(\"turunan dari kemungkinan g(x) kedua\")\n",
    "derivative_g"
   ]
  },
  {
   "cell_type": "code",
   "execution_count": 794,
   "metadata": {},
   "outputs": [
    {
     "name": "stdout",
     "output_type": "stream",
     "text": [
      "turunan dari kemungkinan g(x) ketiga\n"
     ]
    },
    {
     "data": {
      "image/png": "[encoded data removed]",
      "text/latex": [
       "$\\displaystyle - \\frac{1}{\\left(x - 1\\right)^{2}}$"
      ],
      "text/plain": [
       "  -1    \n",
       "────────\n",
       "       2\n",
       "(x - 1) "
      ]
     },
     "execution_count": 794,
     "metadata": {},
     "output_type": "execute_result"
    }
   ],
   "source": [
    "x = Symbol('x')\n",
    "\n",
    "g = 1 / (x-1)\n",
    "derivative_g = g.diff(x)\n",
    "print(\"turunan dari kemungkinan g(x) ketiga\")\n",
    "derivative_g"
   ]
  },
  {
   "cell_type": "markdown",
   "metadata": {},
   "source": [
    "##### Langkah 3 : mensubstitusikan nilai $x0$ untuk cek kekonvergenan"
   ]
  },
  {
   "cell_type": "code",
   "execution_count": 795,
   "metadata": {},
   "outputs": [],
   "source": [
    "def g1(x):\n",
    "    return 1 / 2 * math.pow((x+1), -1/2)\n",
    "\n",
    "def g2(x):\n",
    "    return 2*x\n",
    "\n",
    "def g3(x):\n",
    "    return -1 / math.pow((x-1), 2)"
   ]
  },
  {
   "cell_type": "code",
   "execution_count": 796,
   "metadata": {},
   "outputs": [
    {
     "name": "stdout",
     "output_type": "stream",
     "text": [
      "hasil dari g1 dengan x0 = 2\n"
     ]
    },
    {
     "data": {
      "image/png": "[encoded data removed]",
      "text/latex": [
       "$\\displaystyle 0.288675134594813$"
      ],
      "text/plain": [
       "0.28867513459481287"
      ]
     },
     "execution_count": 796,
     "metadata": {},
     "output_type": "execute_result"
    }
   ],
   "source": [
    "print(\"hasil dari g1 dengan x0 = 2\")\n",
    "g1(2)"
   ]
  },
  {
   "cell_type": "code",
   "execution_count": 797,
   "metadata": {},
   "outputs": [
    {
     "name": "stdout",
     "output_type": "stream",
     "text": [
      "hasil dari g2 dengan x0 = 2\n"
     ]
    },
    {
     "data": {
      "image/png": "[encoded data removed]",
      "text/latex": [
       "$\\displaystyle 4$"
      ],
      "text/plain": [
       "4"
      ]
     },
     "execution_count": 797,
     "metadata": {},
     "output_type": "execute_result"
    }
   ],
   "source": [
    "print(\"hasil dari g2 dengan x0 = 2\")\n",
    "g2(2)\n"
   ]
  },
  {
   "cell_type": "code",
   "execution_count": 798,
   "metadata": {},
   "outputs": [
    {
     "name": "stdout",
     "output_type": "stream",
     "text": [
      "hasil dari g3 dengan x0 = 2\n"
     ]
    },
    {
     "data": {
      "image/png": "[encoded data removed]",
      "text/latex": [
       "$\\displaystyle -1.0$"
      ],
      "text/plain": [
       "-1.0"
      ]
     },
     "execution_count": 798,
     "metadata": {},
     "output_type": "execute_result"
    }
   ],
   "source": [
    "print(\"hasil dari g3 dengan x0 = 2\")\n",
    "g3(2)\n"
   ]
  },
  {
   "cell_type": "markdown",
   "metadata": {},
   "source": [
    "##### Karena yang memenuhi syarat konvergen adalah turunan dari kemungkinan $g(x)$ yang pertama maka kita gunakan $g(x)$ untuk diiterasi"
   ]
  },
  {
   "cell_type": "code",
   "execution_count": 799,
   "metadata": {},
   "outputs": [],
   "source": [
    "def g(x):\n",
    "    return math.pow((x+1), 1/2)"
   ]
  },
  {
   "cell_type": "code",
   "execution_count": 800,
   "metadata": {},
   "outputs": [
    {
     "name": "stdout",
     "output_type": "stream",
     "text": [
      "[1.0, 1.4142135623730951, 1.5537739740300374, 1.5980531824786175, 1.6118477541252516, 1.616121206508117, 1.6174427985273905, 1.617851290609675, 1.6179775309347393, 1.6180165422314876, 1.6180285974702324, 1.618032322752, 1.6180334739281508, 1.618033829661219, 1.6180339395887897, 1.6180339735582778, 1.618033984055427, 1.6180339872992244, 1.618033988301613, 1.6180339886113682]\n"
     ]
    }
   ],
   "source": [
    "tol = 1.0E-10\n",
    "delta = 1000\n",
    "xn = 1.0\n",
    "xd = []\n",
    "lis_delta = []\n",
    "while delta > tol:\n",
    "    xd.append(xn)\n",
    "\n",
    "    # xn + 1 g(xn)\n",
    "    xnp1 = g(xn)\n",
    "    delta = abs(xnp1 - xn)\n",
    "    lis_delta.append(delta)\n",
    "\n",
    "    # simpan untuk iterasi selanjutnya\n",
    "    xn = xnp1\n",
    "print(xd)\n"
   ]
  },
  {
   "cell_type": "code",
   "execution_count": 803,
   "metadata": {},
   "outputs": [
    {
     "data": {
      "image/png": "[encoded data removed]",
      "text/plain": [
       "<Figure size 432x288 with 1 Axes>"
      ]
     },
     "metadata": {
      "needs_background": "light"
     },
     "output_type": "display_data"
    }
   ],
   "source": [
    "n = np.arange(len(xd))\n",
    "plt.plot(n, xd, 'b')\n",
    "plt.xlabel('$n$')\n",
    "plt.ylabel('$X_n$')\n",
    "plt.show()"
   ]
  },
  {
   "cell_type": "code",
   "execution_count": 805,
   "metadata": {},
   "outputs": [
    {
     "name": "stdout",
     "output_type": "stream",
     "text": [
      "Diperoleh nilai akar dari persamaan tersebut adalah 1.6180339886113682\n"
     ]
    }
   ],
   "source": [
    "print(\"Diperoleh nilai akar dari persamaan tersebut adalah\", xd[len(xd)-1])"
   ]
  },
  {
   "cell_type": "markdown",
   "metadata": {},
   "source": [
    "### **soal 2 menggunakan metode newton-raphson**"
   ]
  },
  {
   "cell_type": "markdown",
   "metadata": {},
   "source": [
    "#### Persamaan awal:\n",
    "- $f(x) = x - \\mathrm{e}^{-2x^2}$\n",
    "\n",
    "- $f'(x) = 1 + 4\\mathrm{e}^{-2x^2}x$"
   ]
  },
  {
   "cell_type": "code",
   "execution_count": 806,
   "metadata": {},
   "outputs": [],
   "source": [
    "def f(x):\n",
    "    return x - math.pow(math.e, -2*x**2)"
   ]
  },
  {
   "cell_type": "code",
   "execution_count": 807,
   "metadata": {},
   "outputs": [],
   "source": [
    "def f_turunan(x):\n",
    "    return 1 + 4*math.pow(math.e, -2*x**2)*x\n"
   ]
  },
  {
   "cell_type": "code",
   "execution_count": 812,
   "metadata": {},
   "outputs": [
    {
     "name": "stdout",
     "output_type": "stream",
     "text": [
      "[0.0, 1.0, 0.43901794464507593, 0.5488956186350575, 0.5482170346052435, 0.548217081363998]\n"
     ]
    }
   ],
   "source": [
    "tol = 1.0E-10\n",
    "delta = 1000\n",
    "xn = 0.0\n",
    "xd = []\n",
    "lis_delta = []\n",
    "while delta > tol:\n",
    "    xd.append(xn)\n",
    "    xnp1 = xn - f(xn) / f_turunan(xn)\n",
    "    delta = abs(xnp1 - xn)\n",
    "    lis_delta.append(delta)\n",
    "    xn = xnp1\n",
    "print(xd)"
   ]
  },
  {
   "cell_type": "code",
   "execution_count": 813,
   "metadata": {},
   "outputs": [
    {
     "data": {
      "image/png": "[encoded data removed]",
      "text/latex": [
       "$\\displaystyle \\left[ 1.0, \\  0.560982055354924, \\  0.109877673989982, \\  0.000678584029814022, \\  4.67587545349701 \\cdot 10^{-8}, \\  2.22044604925031 \\cdot 10^{-16}\\right]$"
      ],
      "text/plain": [
       "[1.0, 0.5609820553549241, 0.1098776739899816, 0.0006785840298140222, 4.6758754\n",
       "53497014e-08, 2.220446049250313e-16]"
      ]
     },
     "execution_count": 813,
     "metadata": {},
     "output_type": "execute_result"
    }
   ],
   "source": [
    "lis_delta"
   ]
  },
  {
   "cell_type": "code",
   "execution_count": 815,
   "metadata": {},
   "outputs": [
    {
     "data": {
      "image/png": "[encoded data removed]",
      "text/plain": [
       "<Figure size 432x288 with 1 Axes>"
      ]
     },
     "metadata": {
      "needs_background": "light"
     },
     "output_type": "display_data"
    }
   ],
   "source": [
    "n = np.arange(len(xd))\n",
    "plt.plot(n, xd, 'g')\n",
    "plt.xlabel('$n$')\n",
    "plt.ylabel('$X_n$')\n",
    "plt.show()"
   ]
  },
  {
   "cell_type": "markdown",
   "metadata": {},
   "source": [
    "### **soal 3 menggunakan metode sekan dan regula-falsi**"
   ]
  },
  {
   "cell_type": "markdown",
   "metadata": {},
   "source": [
    "##### a) Metode Sekan"
   ]
  },
  {
   "cell_type": "markdown",
   "metadata": {},
   "source": [
    "$f(x) = 1 - \\frac{x^2}{2} + \\frac{x^4}{24}$"
   ]
  },
  {
   "cell_type": "code",
   "execution_count": 816,
   "metadata": {},
   "outputs": [],
   "source": [
    "def f(x):\n",
    "    return 1 - x**2 / 2 + x**4 / 24"
   ]
  },
  {
   "cell_type": "code",
   "execution_count": 820,
   "metadata": {},
   "outputs": [
    {
     "name": "stdout",
     "output_type": "stream",
     "text": [
      "[1, 1.619047619047619, 1.5924123508426622, 1.5924505900703534, 1.5924504340371173, 1.5924504340362513]\n"
     ]
    }
   ],
   "source": [
    "tol = 1.0E-10\n",
    "delta = 1000\n",
    "lis_delta = []\n",
    "xn = 1\n",
    "xnm1 = 2\n",
    "fn = f(xn)\n",
    "fnm1 = f(xnm1)\n",
    "\n",
    "xd = []\n",
    "while delta > tol:\n",
    "    xd.append(xn)\n",
    "    xnp1 = xn - fn*(xn - xnm1)/(fn - fnm1)\n",
    "    delta = abs(xnp1 - xnm1)\n",
    "    lis_delta.append(delta)\n",
    "    fnp1 = f(xnp1)\n",
    "\n",
    "    # simpan untuk iterasi berikutnya\n",
    "    xnm1 = xn\n",
    "    xn = xnp1\n",
    "    fnm1 = fn\n",
    "    fn = fnp1\n",
    "print(xd)\n"
   ]
  },
  {
   "cell_type": "code",
   "execution_count": 821,
   "metadata": {},
   "outputs": [
    {
     "data": {
      "image/png": "[encoded data removed]",
      "text/latex": [
       "$\\displaystyle \\left[ 0.380952380952381, \\  0.592412350842662, \\  0.0265970289772657, \\  3.80831944550852 \\cdot 10^{-5}, \\  1.56034102083424 \\cdot 10^{-7}, \\  8.65973959207622 \\cdot 10^{-13}\\right]$"
      ],
      "text/plain": [
       "[0.38095238095238093, 0.5924123508426622, 0.02659702897726568, 3.8083194455085\n",
       "234e-05, 1.5603410208342439e-07, 8.659739592076221e-13]"
      ]
     },
     "execution_count": 821,
     "metadata": {},
     "output_type": "execute_result"
    }
   ],
   "source": [
    "lis_delta"
   ]
  },
  {
   "cell_type": "code",
   "execution_count": 822,
   "metadata": {},
   "outputs": [
    {
     "data": {
      "image/png": "[encoded data removed]",
      "text/plain": [
       "<Figure size 432x288 with 1 Axes>"
      ]
     },
     "metadata": {
      "needs_background": "light"
     },
     "output_type": "display_data"
    }
   ],
   "source": [
    "n = np.arange(len(xd))\n",
    "plt.plot(n, xd, 'cyan')\n",
    "plt.xlabel('$n$')\n",
    "plt.ylabel('$x_n$')\n",
    "plt.show()"
   ]
  },
  {
   "cell_type": "markdown",
   "metadata": {},
   "source": [
    "##### b) Metode regula-falsi"
   ]
  },
  {
   "cell_type": "markdown",
   "metadata": {},
   "source": [
    "$f(x) = 1 - \\frac{x^2}{2} + \\frac{x^4}{24}$"
   ]
  },
  {
   "cell_type": "code",
   "execution_count": 823,
   "metadata": {},
   "outputs": [],
   "source": [
    "def f(x):\n",
    "    return 1 - x**2 / 2 + x**4 / 24"
   ]
  },
  {
   "cell_type": "code",
   "execution_count": 824,
   "metadata": {},
   "outputs": [
    {
     "data": {
      "image/png": "[encoded data removed]",
      "text/latex": [
       "$\\displaystyle 1.59246444617521$"
      ],
      "text/plain": [
       "1.5924644461752113"
      ]
     },
     "execution_count": 824,
     "metadata": {},
     "output_type": "execute_result"
    }
   ],
   "source": [
    "a = 1.5890\n",
    "b = 1.6190\n",
    "fb = f(b)\n",
    "fa = f(a)\n",
    "\n",
    "c = b - fb*(b-a)/(fb-fa)\n",
    "c"
   ]
  },
  {
   "cell_type": "code",
   "execution_count": 827,
   "metadata": {},
   "outputs": [
    {
     "name": "stdout",
     "output_type": "stream",
     "text": [
      "[1.619047619047619, 1.5924123508426622, 1.5924505900703534, 1.5924504340371173, 1.5924504340362513]\n"
     ]
    }
   ],
   "source": [
    "tol = 1.0E-10\n",
    "delta = 1000\n",
    "lis_delta = []\n",
    "a = 1\n",
    "b = 2\n",
    "fa = f(a)\n",
    "fb = f(b)\n",
    "xd = []\n",
    "xn = b\n",
    "\n",
    "while delta > tol:\n",
    "    c = b - fb*(b-a)/(fb-fa)\n",
    "    fc = f(c)\n",
    "\n",
    "    # cek jika interval mengandung solusi\n",
    "    if (fa*fc) < 0:\n",
    "        b = c\n",
    "        fb = fc\n",
    "    else:\n",
    "        a = c\n",
    "        fa = fc\n",
    "\n",
    "    xd.append(c)\n",
    "    xnp1 = c\n",
    "    delta = abs(xnp1 - xn)\n",
    "    lis_delta.append(delta)\n",
    "\n",
    "    # simpan untuk iterasi berikutnya\n",
    "    xn = xnp1\n",
    "print(xd)\n"
   ]
  },
  {
   "cell_type": "code",
   "execution_count": 828,
   "metadata": {},
   "outputs": [
    {
     "data": {
      "image/png": "[encoded data removed]",
      "text/latex": [
       "$\\displaystyle \\left[ 0.380952380952381, \\  0.0266352682049569, \\  3.82392276911947 \\cdot 10^{-5}, \\  1.56033236109465 \\cdot 10^{-7}, \\  8.65973959207622 \\cdot 10^{-13}\\right]$"
      ],
      "text/plain": [
       "[0.38095238095238093, 0.026635268204956875, 3.82392276911947e-05, 1.5603323610\n",
       "946518e-07, 8.659739592076221e-13]"
      ]
     },
     "execution_count": 828,
     "metadata": {},
     "output_type": "execute_result"
    }
   ],
   "source": [
    "lis_delta"
   ]
  },
  {
   "cell_type": "code",
   "execution_count": 829,
   "metadata": {},
   "outputs": [
    {
     "data": {
      "image/png": "[encoded data removed]",
      "text/plain": [
       "<Figure size 432x288 with 1 Axes>"
      ]
     },
     "metadata": {
      "needs_background": "light"
     },
     "output_type": "display_data"
    }
   ],
   "source": [
    "n = np.arange(len(xd))\n",
    "plt.plot(n, xd, 'cyan')\n",
    "plt.xlabel('$n$')\n",
    "plt.ylabel('$x_n$')\n",
    "plt.show()\n"
   ]
  }
 ],
 "metadata": {
  "kernelspec": {
   "display_name": "Python 3.10.0 64-bit",
   "language": "python",
   "name": "python3"
  },
  "language_info": {
   "codemirror_mode": {
    "name": "ipython",
    "version": 3
   },
   "file_extension": ".py",
   "mimetype": "text/x-python",
   "name": "python",
   "nbconvert_exporter": "python",
   "pygments_lexer": "ipython3",
   "version": "3.10.0"
  },
  "orig_nbformat": 4,
  "vscode": {
   "interpreter": {
    "hash": "cf832e1454d04f9acbb8e981f777f1d16233c8a4985fed58d9ea50735430799f"
   }
  }
 },
 "nbformat": 4,
 "nbformat_minor": 2
}
